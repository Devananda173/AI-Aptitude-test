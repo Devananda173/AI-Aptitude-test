{
  "nbformat": 4,
  "nbformat_minor": 0,
  "metadata": {
    "colab": {
      "name": "decision tree model1.ipynb",
      "provenance": [],
      "collapsed_sections": [],
      "authorship_tag": "ABX9TyNOQ73zWF6x3Q/BZhKtOFHv",
      "include_colab_link": true
    },
    "kernelspec": {
      "name": "python3",
      "display_name": "Python 3"
    },
    "language_info": {
      "name": "python"
    }
  },
  "cells": [
    {
      "cell_type": "markdown",
      "metadata": {
        "id": "view-in-github",
        "colab_type": "text"
      },
      "source": [
        "<a href=\"https://colab.research.google.com/github/Devananda173/AI-Aptitude-test/blob/main/decision_tree_model1.ipynb\" target=\"_parent\"><img src=\"https://colab.research.google.com/assets/colab-badge.svg\" alt=\"Open In Colab\"/></a>"
      ]
    },
    {
      "cell_type": "code",
      "metadata": {
        "id": "ZwJ9v7HfJnmg"
      },
      "source": [
        "import pandas as pd"
      ],
      "execution_count": 1,
      "outputs": []
    },
    {
      "cell_type": "code",
      "metadata": {
        "id": "wRzioTClKBNB"
      },
      "source": [
        "df=pd.read_csv('/content/exams (2) (1).csv')"
      ],
      "execution_count": 3,
      "outputs": []
    },
    {
      "cell_type": "code",
      "metadata": {
        "id": "Ru-A0erWKPIo"
      },
      "source": [
        "from sklearn.model_selection import train_test_split\n"
      ],
      "execution_count": 4,
      "outputs": []
    },
    {
      "cell_type": "code",
      "metadata": {
        "colab": {
          "base_uri": "https://localhost:8080/",
          "height": 204
        },
        "id": "YFWK9TmIKhbQ",
        "outputId": "d762ebb6-1f84-4311-d18b-0babd7d98b04"
      },
      "source": [
        "df.head()"
      ],
      "execution_count": 5,
      "outputs": [
        {
          "output_type": "execute_result",
          "data": {
            "text/html": [
              "<div>\n",
              "<style scoped>\n",
              "    .dataframe tbody tr th:only-of-type {\n",
              "        vertical-align: middle;\n",
              "    }\n",
              "\n",
              "    .dataframe tbody tr th {\n",
              "        vertical-align: top;\n",
              "    }\n",
              "\n",
              "    .dataframe thead th {\n",
              "        text-align: right;\n",
              "    }\n",
              "</style>\n",
              "<table border=\"1\" class=\"dataframe\">\n",
              "  <thead>\n",
              "    <tr style=\"text-align: right;\">\n",
              "      <th></th>\n",
              "      <th>gender</th>\n",
              "      <th>race/ethnicity</th>\n",
              "      <th>parental level of education</th>\n",
              "      <th>lunch</th>\n",
              "      <th>test preparation course</th>\n",
              "      <th>math score</th>\n",
              "      <th>aptitude score</th>\n",
              "      <th>writing score</th>\n",
              "      <th>Total</th>\n",
              "      <th>GradePoints</th>\n",
              "    </tr>\n",
              "  </thead>\n",
              "  <tbody>\n",
              "    <tr>\n",
              "      <th>0</th>\n",
              "      <td>male</td>\n",
              "      <td>group E</td>\n",
              "      <td>some college</td>\n",
              "      <td>standard</td>\n",
              "      <td>0</td>\n",
              "      <td>100</td>\n",
              "      <td>91</td>\n",
              "      <td>84</td>\n",
              "      <td>275</td>\n",
              "      <td>0.9</td>\n",
              "    </tr>\n",
              "    <tr>\n",
              "      <th>1</th>\n",
              "      <td>male</td>\n",
              "      <td>group C</td>\n",
              "      <td>some college</td>\n",
              "      <td>free/reduced</td>\n",
              "      <td>10</td>\n",
              "      <td>38</td>\n",
              "      <td>31</td>\n",
              "      <td>36</td>\n",
              "      <td>105</td>\n",
              "      <td>0.4</td>\n",
              "    </tr>\n",
              "    <tr>\n",
              "      <th>2</th>\n",
              "      <td>male</td>\n",
              "      <td>group E</td>\n",
              "      <td>high school</td>\n",
              "      <td>standard</td>\n",
              "      <td>10</td>\n",
              "      <td>83</td>\n",
              "      <td>74</td>\n",
              "      <td>73</td>\n",
              "      <td>230</td>\n",
              "      <td>0.8</td>\n",
              "    </tr>\n",
              "    <tr>\n",
              "      <th>3</th>\n",
              "      <td>female</td>\n",
              "      <td>group B</td>\n",
              "      <td>some college</td>\n",
              "      <td>standard</td>\n",
              "      <td>0</td>\n",
              "      <td>73</td>\n",
              "      <td>79</td>\n",
              "      <td>79</td>\n",
              "      <td>231</td>\n",
              "      <td>0.8</td>\n",
              "    </tr>\n",
              "    <tr>\n",
              "      <th>4</th>\n",
              "      <td>female</td>\n",
              "      <td>group A</td>\n",
              "      <td>some high school</td>\n",
              "      <td>free/reduced</td>\n",
              "      <td>10</td>\n",
              "      <td>74</td>\n",
              "      <td>80</td>\n",
              "      <td>81</td>\n",
              "      <td>235</td>\n",
              "      <td>0.8</td>\n",
              "    </tr>\n",
              "  </tbody>\n",
              "</table>\n",
              "</div>"
            ],
            "text/plain": [
              "   gender race/ethnicity  ... Total GradePoints\n",
              "0    male        group E  ...   275         0.9\n",
              "1    male        group C  ...   105         0.4\n",
              "2    male        group E  ...   230         0.8\n",
              "3  female        group B  ...   231         0.8\n",
              "4  female        group A  ...   235         0.8\n",
              "\n",
              "[5 rows x 10 columns]"
            ]
          },
          "metadata": {
            "tags": []
          },
          "execution_count": 5
        }
      ]
    },
    {
      "cell_type": "code",
      "metadata": {
        "id": "QGUwX1yRKtew"
      },
      "source": [
        "independent=df[['GradePoints','aptitude score']]\n",
        "dependent=df[['race/ethnicity']]"
      ],
      "execution_count": 24,
      "outputs": []
    },
    {
      "cell_type": "code",
      "metadata": {
        "id": "37QahJDQLI_Y"
      },
      "source": [
        "x_train,x_test,y_train,y_test=train_test_split(independent,dependent,test_size=0.3)"
      ],
      "execution_count": 25,
      "outputs": []
    },
    {
      "cell_type": "code",
      "metadata": {
        "colab": {
          "base_uri": "https://localhost:8080/"
        },
        "id": "1qq2rCvjLea3",
        "outputId": "5a24a5fa-930c-4376-9ccf-9fd36a3aefe1"
      },
      "source": [
        "x_train.info()"
      ],
      "execution_count": 26,
      "outputs": [
        {
          "output_type": "stream",
          "text": [
            "<class 'pandas.core.frame.DataFrame'>\n",
            "Int64Index: 700 entries, 691 to 59\n",
            "Data columns (total 2 columns):\n",
            " #   Column          Non-Null Count  Dtype  \n",
            "---  ------          --------------  -----  \n",
            " 0   GradePoints     700 non-null    float64\n",
            " 1   aptitude score  700 non-null    int64  \n",
            "dtypes: float64(1), int64(1)\n",
            "memory usage: 16.4 KB\n"
          ],
          "name": "stdout"
        }
      ]
    },
    {
      "cell_type": "code",
      "metadata": {
        "colab": {
          "base_uri": "https://localhost:8080/"
        },
        "id": "IqJzmTdhLkOo",
        "outputId": "90901c15-4621-4593-f797-7721336c0eda"
      },
      "source": [
        "x_test.info()"
      ],
      "execution_count": 27,
      "outputs": [
        {
          "output_type": "stream",
          "text": [
            "<class 'pandas.core.frame.DataFrame'>\n",
            "Int64Index: 300 entries, 299 to 434\n",
            "Data columns (total 2 columns):\n",
            " #   Column          Non-Null Count  Dtype  \n",
            "---  ------          --------------  -----  \n",
            " 0   GradePoints     300 non-null    float64\n",
            " 1   aptitude score  300 non-null    int64  \n",
            "dtypes: float64(1), int64(1)\n",
            "memory usage: 7.0 KB\n"
          ],
          "name": "stdout"
        }
      ]
    },
    {
      "cell_type": "code",
      "metadata": {
        "id": "7_jSpkWzLoPQ"
      },
      "source": [
        "from sklearn.tree import DecisionTreeClassifier"
      ],
      "execution_count": 28,
      "outputs": []
    },
    {
      "cell_type": "code",
      "metadata": {
        "id": "wF1VMS3VLysT"
      },
      "source": [
        "dtc=DecisionTreeClassifier()"
      ],
      "execution_count": 29,
      "outputs": []
    },
    {
      "cell_type": "code",
      "metadata": {
        "colab": {
          "base_uri": "https://localhost:8080/"
        },
        "id": "ScVVbeCAL8fg",
        "outputId": "243570c5-b134-452a-e13f-54d839f1fbe4"
      },
      "source": [
        "dtc.fit(x_train,y_train)"
      ],
      "execution_count": 30,
      "outputs": [
        {
          "output_type": "execute_result",
          "data": {
            "text/plain": [
              "DecisionTreeClassifier(ccp_alpha=0.0, class_weight=None, criterion='gini',\n",
              "                       max_depth=None, max_features=None, max_leaf_nodes=None,\n",
              "                       min_impurity_decrease=0.0, min_impurity_split=None,\n",
              "                       min_samples_leaf=1, min_samples_split=2,\n",
              "                       min_weight_fraction_leaf=0.0, presort='deprecated',\n",
              "                       random_state=None, splitter='best')"
            ]
          },
          "metadata": {
            "tags": []
          },
          "execution_count": 30
        }
      ]
    },
    {
      "cell_type": "code",
      "metadata": {
        "id": "NuFvbTCjMEJB"
      },
      "source": [
        "y_predict=dtc.predict(x_test)"
      ],
      "execution_count": 31,
      "outputs": []
    },
    {
      "cell_type": "code",
      "metadata": {
        "colab": {
          "base_uri": "https://localhost:8080/"
        },
        "id": "LoN0FliVMW-o",
        "outputId": "1d349da5-ca90-4f41-f865-5a433e99eea3"
      },
      "source": [
        "y_predict"
      ],
      "execution_count": 32,
      "outputs": [
        {
          "output_type": "execute_result",
          "data": {
            "text/plain": [
              "array(['group D', 'group C', 'group D', 'group B', 'group C', 'group C',\n",
              "       'group C', 'group B', 'group B', 'group C', 'group A', 'group C',\n",
              "       'group B', 'group A', 'group B', 'group B', 'group D', 'group C',\n",
              "       'group C', 'group B', 'group C', 'group D', 'group C', 'group B',\n",
              "       'group E', 'group D', 'group C', 'group A', 'group D', 'group C',\n",
              "       'group C', 'group A', 'group C', 'group B', 'group C', 'group D',\n",
              "       'group B', 'group D', 'group B', 'group C', 'group C', 'group C',\n",
              "       'group C', 'group D', 'group A', 'group C', 'group D', 'group C',\n",
              "       'group C', 'group C', 'group A', 'group C', 'group B', 'group E',\n",
              "       'group C', 'group C', 'group E', 'group D', 'group B', 'group B',\n",
              "       'group C', 'group A', 'group D', 'group E', 'group D', 'group C',\n",
              "       'group C', 'group D', 'group A', 'group D', 'group B', 'group C',\n",
              "       'group D', 'group C', 'group D', 'group C', 'group C', 'group C',\n",
              "       'group C', 'group C', 'group A', 'group C', 'group C', 'group D',\n",
              "       'group C', 'group B', 'group A', 'group C', 'group A', 'group D',\n",
              "       'group C', 'group B', 'group C', 'group D', 'group C', 'group D',\n",
              "       'group C', 'group D', 'group C', 'group C', 'group C', 'group C',\n",
              "       'group D', 'group A', 'group B', 'group C', 'group C', 'group D',\n",
              "       'group C', 'group C', 'group E', 'group B', 'group B', 'group C',\n",
              "       'group D', 'group D', 'group A', 'group B', 'group C', 'group E',\n",
              "       'group A', 'group C', 'group C', 'group B', 'group C', 'group D',\n",
              "       'group B', 'group D', 'group C', 'group D', 'group C', 'group A',\n",
              "       'group C', 'group D', 'group C', 'group C', 'group E', 'group E',\n",
              "       'group C', 'group C', 'group B', 'group D', 'group C', 'group A',\n",
              "       'group C', 'group C', 'group C', 'group D', 'group C', 'group C',\n",
              "       'group D', 'group D', 'group C', 'group C', 'group C', 'group C',\n",
              "       'group C', 'group B', 'group C', 'group C', 'group C', 'group B',\n",
              "       'group D', 'group D', 'group D', 'group C', 'group B', 'group C',\n",
              "       'group C', 'group A', 'group D', 'group A', 'group B', 'group C',\n",
              "       'group B', 'group C', 'group B', 'group B', 'group C', 'group A',\n",
              "       'group D', 'group C', 'group E', 'group C', 'group C', 'group B',\n",
              "       'group B', 'group C', 'group D', 'group C', 'group C', 'group C',\n",
              "       'group C', 'group D', 'group D', 'group A', 'group C', 'group D',\n",
              "       'group B', 'group A', 'group C', 'group C', 'group D', 'group C',\n",
              "       'group C', 'group A', 'group B', 'group B', 'group D', 'group B',\n",
              "       'group C', 'group E', 'group C', 'group D', 'group C', 'group B',\n",
              "       'group B', 'group C', 'group C', 'group C', 'group D', 'group A',\n",
              "       'group B', 'group C', 'group B', 'group C', 'group E', 'group C',\n",
              "       'group B', 'group C', 'group C', 'group C', 'group C', 'group C',\n",
              "       'group D', 'group C', 'group C', 'group D', 'group D', 'group C',\n",
              "       'group D', 'group D', 'group D', 'group C', 'group C', 'group B',\n",
              "       'group C', 'group D', 'group D', 'group C', 'group A', 'group B',\n",
              "       'group C', 'group E', 'group C', 'group B', 'group C', 'group C',\n",
              "       'group C', 'group D', 'group B', 'group A', 'group D', 'group C',\n",
              "       'group C', 'group C', 'group C', 'group C', 'group C', 'group C',\n",
              "       'group C', 'group C', 'group D', 'group D', 'group B', 'group B',\n",
              "       'group C', 'group D', 'group C', 'group C', 'group E', 'group C',\n",
              "       'group D', 'group C', 'group C', 'group C', 'group C', 'group C',\n",
              "       'group C', 'group C', 'group C', 'group C', 'group C', 'group C',\n",
              "       'group C', 'group C', 'group D', 'group C', 'group C', 'group C'],\n",
              "      dtype=object)"
            ]
          },
          "metadata": {
            "tags": []
          },
          "execution_count": 32
        }
      ]
    },
    {
      "cell_type": "code",
      "metadata": {
        "id": "hI3MPf04MZZo"
      },
      "source": [
        "from sklearn.metrics import confusion_matrix"
      ],
      "execution_count": 33,
      "outputs": []
    },
    {
      "cell_type": "code",
      "metadata": {
        "colab": {
          "base_uri": "https://localhost:8080/"
        },
        "id": "Ws5VLBd0NkAw",
        "outputId": "1b8542e2-9f96-424f-fc5f-35b74d94ce79"
      },
      "source": [
        "cm=confusion_matrix(y_test,y_predict)\n",
        "cm"
      ],
      "execution_count": 34,
      "outputs": [
        {
          "output_type": "execute_result",
          "data": {
            "text/plain": [
              "array([[ 2,  1, 18,  8,  0],\n",
              "       [ 5, 12, 35, 10,  1],\n",
              "       [11, 18, 44, 17,  6],\n",
              "       [ 4, 11, 36, 15,  3],\n",
              "       [ 3,  6, 19, 12,  3]])"
            ]
          },
          "metadata": {
            "tags": []
          },
          "execution_count": 34
        }
      ]
    },
    {
      "cell_type": "code",
      "metadata": {
        "id": "9ExVrek6N8GI"
      },
      "source": [
        "import seaborn as a\n",
        "import matplotlib.pyplot as plt"
      ],
      "execution_count": 39,
      "outputs": []
    },
    {
      "cell_type": "code",
      "metadata": {
        "colab": {
          "base_uri": "https://localhost:8080/",
          "height": 880
        },
        "id": "jynbWzdDO5LX",
        "outputId": "0a81728d-23d7-4e01-97d2-07d1f9eebfb9"
      },
      "source": [
        "plt.subplots(figsize=(15,15))\n",
        "a.heatmap(cm,annot=True,linewidths=.5)\n"
      ],
      "execution_count": 46,
      "outputs": [
        {
          "output_type": "execute_result",
          "data": {
            "text/plain": [
              "<matplotlib.axes._subplots.AxesSubplot at 0x7fc30ff1d3d0>"
            ]
          },
          "metadata": {
            "tags": []
          },
          "execution_count": 46
        },
        {
          "output_type": "display_data",
          "data": {
            "image/png": "[encoded data removed]",
            "text/plain": [
              "<Figure size 1080x1080 with 2 Axes>"
            ]
          },
          "metadata": {
            "tags": [],
            "needs_background": "light"
          }
        }
      ]
    },
    {
      "cell_type": "code",
      "metadata": {
        "colab": {
          "base_uri": "https://localhost:8080/"
        },
        "id": "VoGvJZP9PNLv",
        "outputId": "6cd247dc-9b18-4e18-ce63-957b62ec89a9"
      },
      "source": [
        "accuracy=(2+12+44+15+3)/(1+18+8+10+18+17+6+11+36+19+12+35+36+19)\n",
        "accuracy"
      ],
      "execution_count": 37,
      "outputs": [
        {
          "output_type": "execute_result",
          "data": {
            "text/plain": [
              "0.3089430894308943"
            ]
          },
          "metadata": {
            "tags": []
          },
          "execution_count": 37
        }
      ]
    },
    {
      "cell_type": "code",
      "metadata": {
        "id": "DjSjpUdqQHJP"
      },
      "source": [
        ""
      ],
      "execution_count": null,
      "outputs": []
    }
  ]
}